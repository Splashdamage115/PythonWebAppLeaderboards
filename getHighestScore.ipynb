{
 "cells": [
  {
   "cell_type": "code",
   "execution_count": 7,
   "id": "cf4b8070-3811-4c60-a4ee-44be167fb303",
   "metadata": {},
   "outputs": [],
   "source": [
    "import DBcm"
   ]
  },
  {
   "cell_type": "code",
   "execution_count": 8,
   "id": "f6de3ec6-d99b-4600-abab-a47d0fedaf5f",
   "metadata": {},
   "outputs": [],
   "source": [
    "creds = {\n",
    "    \"host\": \"localhost\",\n",
    "    \"user\": \"gofishuser\",\n",
    "    \"password\": \"gofishpasswd\",\n",
    "    \"database\": \"gofishdb\"\n",
    "}"
   ]
  },
  {
   "cell_type": "code",
   "execution_count": 31,
   "id": "7541e393-2ce0-4491-bae2-43476a9ae602",
   "metadata": {},
   "outputs": [
    {
     "name": "stdout",
     "output_type": "stream",
     "text": [
      "1\n"
     ]
    }
   ],
   "source": [
    "accountName = 'testHandle'\n",
    "sql = f\"select * from player where handle = '{accountName}'\"\n",
    "with DBcm.UseDatabase(creds) as db:\n",
    "    db.execute(sql)\n",
    "    playerName = db.fetchall()\n",
    "\n",
    "print(playerName[0][0])\n",
    "    "
   ]
  },
  {
   "cell_type": "code",
   "execution_count": 15,
   "id": "8a8d77ae-067f-4daa-a622-c90bc91e56ac",
   "metadata": {},
   "outputs": [
    {
     "name": "stdout",
     "output_type": "stream",
     "text": [
      "[(1, 0, datetime.datetime(2024, 11, 15, 13, 38, 20))]\n"
     ]
    }
   ],
   "source": [
    "sql = f\"select * from scores where player_id = {playerName[0][0]} order by score limit 1\"\n",
    "\n",
    "with DBcm.UseDatabase(creds) as db:\n",
    "    db.execute(sql)\n",
    "    highestScore = db.fetchall()\n",
    "    \n",
    "print(highestScore)"
   ]
  },
  {
   "cell_type": "code",
   "execution_count": 30,
   "id": "dfc9f6e8-472f-4ffc-8a57-77e2aba1d988",
   "metadata": {},
   "outputs": [],
   "source": [
    "sql = f\"insert into player (name, handle) values (?, ?)\"\n",
    "newName = \"newNameHere\"\n",
    "newHandle = \"newHandleHere\"\n",
    "newUser = (newName, newHandle)\n",
    "\n",
    "with DBcm.UseDatabase(creds) as db:\n",
    "    db.execute(sql, newUser)"
   ]
  },
  {
   "cell_type": "code",
   "execution_count": null,
   "id": "d50b20ad-d249-4fb5-a6ac-ebe43c53fa23",
   "metadata": {},
   "outputs": [],
   "source": []
  }
 ],
 "metadata": {
  "kernelspec": {
   "display_name": "Python 3 (ipykernel)",
   "language": "python",
   "name": "python3"
  },
  "language_info": {
   "codemirror_mode": {
    "name": "ipython",
    "version": 3
   },
   "file_extension": ".py",
   "mimetype": "text/x-python",
   "name": "python",
   "nbconvert_exporter": "python",
   "pygments_lexer": "ipython3",
   "version": "3.12.6"
  }
 },
 "nbformat": 4,
 "nbformat_minor": 5
}
