{
 "cells": [
  {
   "cell_type": "code",
   "execution_count": 1,
   "id": "61ba62ea-e570-4c2f-af63-072dc514e745",
   "metadata": {},
   "outputs": [
    {
     "name": "stdout",
     "output_type": "stream",
     "text": [
      "[('testHandle', 0, datetime.datetime(2024, 11, 15, 13, 38, 20)), ('secondTestHandle', 0, datetime.datetime(2024, 11, 15, 16, 7, 18))]\n"
     ]
    }
   ],
   "source": [
    "import DBcm\n",
    "\n",
    "creds = {\n",
    "    \"host\": \"localhost\",\n",
    "    \"user\": \"gofishuser\",\n",
    "    \"password\": \"gofishpasswd\",\n",
    "    \"database\": \"gofishdb\"\n",
    "}\n",
    "\n",
    "sql = \"select p.handle, s.score, s.time from player as p, scores as s where p.id = s.player_id\"\n",
    "with DBcm.UseDatabase(creds) as db:\n",
    "    db.execute(sql)\n",
    "    names = db.fetchall()\n",
    "print(names)"
   ]
  },
  {
   "cell_type": "code",
   "execution_count": 2,
   "id": "131db24f-bae4-4719-887f-5cb18a6b6827",
   "metadata": {},
   "outputs": [
    {
     "data": {
      "text/plain": [
       "'testHandle'"
      ]
     },
     "execution_count": 2,
     "metadata": {},
     "output_type": "execute_result"
    }
   ],
   "source": [
    "names[0][0]\n"
   ]
  },
  {
   "cell_type": "code",
   "execution_count": 3,
   "id": "ef635528-2e33-4479-9458-7c77a9404622",
   "metadata": {},
   "outputs": [
    {
     "name": "stdout",
     "output_type": "stream",
     "text": [
      "['__add__', '__class__', '__class_getitem__', '__contains__', '__delattr__', '__dir__', '__doc__', '__eq__', '__format__', '__ge__', '__getattribute__', '__getitem__', '__getnewargs__', '__getstate__', '__gt__', '__hash__', '__init__', '__init_subclass__', '__iter__', '__le__', '__len__', '__lt__', '__mul__', '__ne__', '__new__', '__reduce__', '__reduce_ex__', '__repr__', '__rmul__', '__setattr__', '__sizeof__', '__str__', '__subclasshook__', 'count', 'index']\n",
      "testHandle\n"
     ]
    }
   ],
   "source": [
    "print(dir(names[0]))\n",
    "print(names[0][0])"
   ]
  },
  {
   "cell_type": "code",
   "execution_count": 4,
   "id": "5dc2ad44-8626-4a71-8460-570bd9cfcbfe",
   "metadata": {},
   "outputs": [],
   "source": [
    "newName = []"
   ]
  },
  {
   "cell_type": "code",
   "execution_count": 5,
   "id": "ee507262-7cac-4faf-babd-ce6e83995ccc",
   "metadata": {},
   "outputs": [],
   "source": [
    "\n",
    "for n in names:\n",
    "    newName.append(n[0])\n",
    "    "
   ]
  },
  {
   "cell_type": "code",
   "execution_count": 8,
   "id": "d140b121-d68c-48a3-977d-8e7bcdb31b42",
   "metadata": {},
   "outputs": [
    {
     "name": "stdout",
     "output_type": "stream",
     "text": [
      "testHandle\n"
     ]
    }
   ],
   "source": [
    "print(newName[0])"
   ]
  },
  {
   "cell_type": "code",
   "execution_count": null,
   "id": "beff5d9d-9898-4f3a-91c3-20474dabe824",
   "metadata": {},
   "outputs": [],
   "source": []
  },
  {
   "cell_type": "code",
   "execution_count": null,
   "id": "b8ac4d1e-dc9b-45b3-a840-da50a98b6c20",
   "metadata": {},
   "outputs": [],
   "source": []
  }
 ],
 "metadata": {
  "kernelspec": {
   "display_name": "Python 3 (ipykernel)",
   "language": "python",
   "name": "python3"
  },
  "language_info": {
   "codemirror_mode": {
    "name": "ipython",
    "version": 3
   },
   "file_extension": ".py",
   "mimetype": "text/x-python",
   "name": "python",
   "nbconvert_exporter": "python",
   "pygments_lexer": "ipython3",
   "version": "3.12.6"
  }
 },
 "nbformat": 4,
 "nbformat_minor": 5
}
